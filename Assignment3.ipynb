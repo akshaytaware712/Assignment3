{
 "cells": [
  {
   "cell_type": "markdown",
   "id": "f37b2876",
   "metadata": {},
   "source": [
    "Write a Python function to sum all the numbers in a list.\n",
    "\n",
    "\n",
    "\n",
    "Sample List : (8, 2, 3, 0, 7)\n",
    "\n",
    "Expected Output : 20\n",
    "\n"
   ]
  },
  {
   "cell_type": "code",
   "execution_count": 10,
   "id": "bbc218d2",
   "metadata": {},
   "outputs": [
    {
     "name": "stdout",
     "output_type": "stream",
     "text": [
      "20\n"
     ]
    }
   ],
   "source": [
    "def sum(numbers):\n",
    "    count = 0\n",
    "    for i in numbers:\n",
    "        count+=i\n",
    "    return count\n",
    "print(sum((8,2,3,0,7)))"
   ]
  },
  {
   "cell_type": "markdown",
   "id": "cc4a3ba7",
   "metadata": {},
   "source": [
    "Write a Python program to reverse a string.\n",
    "\n",
    "\n",
    "\n",
    "﻿Sample String : \"1234abcd\"\n",
    "\n",
    "Expected Output : \"dcba4321\"\n",
    "\n"
   ]
  },
  {
   "cell_type": "code",
   "execution_count": 12,
   "id": "61ee695b",
   "metadata": {},
   "outputs": [
    {
     "name": "stdout",
     "output_type": "stream",
     "text": [
      "dcba4321\n"
     ]
    }
   ],
   "source": [
    "def string_reverse(str1):\n",
    "    rstr1 = \"\"\n",
    "    index =len(str1)\n",
    "    while index > 0:\n",
    "        rstr1 += str1[index-1]\n",
    "        index = index-1\n",
    "    return rstr1\n",
    "print(string_reverse(\"1234abcd\"))"
   ]
  },
  {
   "cell_type": "markdown",
   "id": "9cbd131f",
   "metadata": {},
   "source": [
    "Write a Python function that accepts a string and calculate the number of upper case letters and lower case letters.\n",
    "\n",
    "\n",
    "\n",
    "﻿Sample String : 'The quick Brow Fox'\n",
    "\n",
    "Expected Output :\n",
    "\n",
    "No. of Upper case characters : 3\n",
    "\n",
    "No. of Lower case Characters : 12\n",
    "\n"
   ]
  },
  {
   "cell_type": "code",
   "execution_count": 21,
   "id": "7a5fc7f9",
   "metadata": {},
   "outputs": [
    {
     "name": "stdout",
     "output_type": "stream",
     "text": [
      "count of upper case: 3\n",
      "count of lower case: 12\n"
     ]
    }
   ],
   "source": [
    "def string(n):\n",
    "    upper = 0\n",
    "    lower = 0\n",
    "    for i in n:\n",
    "        if i.isupper():\n",
    "            upper += 1\n",
    "        elif i.islower():\n",
    "            lower += 1\n",
    "    print(\"count of upper case:\",upper)\n",
    "    print(\"count of lower case:\",lower)\n",
    "string(\"The quick Brow Fox\")\n",
    "        "
   ]
  }
 ],
 "metadata": {
  "kernelspec": {
   "display_name": "Python 3 (ipykernel)",
   "language": "python",
   "name": "python3"
  },
  "language_info": {
   "codemirror_mode": {
    "name": "ipython",
    "version": 3
   },
   "file_extension": ".py",
   "mimetype": "text/x-python",
   "name": "python",
   "nbconvert_exporter": "python",
   "pygments_lexer": "ipython3",
   "version": "3.8.6"
  }
 },
 "nbformat": 4,
 "nbformat_minor": 5
}
